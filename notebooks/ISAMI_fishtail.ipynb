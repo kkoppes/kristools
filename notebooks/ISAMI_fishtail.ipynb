{
 "cells": [
  {
   "cell_type": "code",
   "execution_count": 21,
   "metadata": {},
   "outputs": [],
   "source": [
    "import sys\n",
    "sys.path.append('../')\n",
    "import pandas as pd\n",
    "import math\n",
    "from pagstresstools.ISAMI.fishtail_reader import fishtail, fastener_system\n"
   ]
  },
  {
   "cell_type": "markdown",
   "metadata": {},
   "source": [
    "# Reading fishtail data into python"
   ]
  },
  {
   "cell_type": "code",
   "execution_count": 2,
   "metadata": {},
   "outputs": [
    {
     "name": "stdout",
     "output_type": "stream",
     "text": [
      "INFO: read fishtail data from excel file in 0.5456209182739258 seconds\n"
     ]
    }
   ],
   "source": [
    "#filen = \"./input/fishtails/MSP17_G321_i00.xlsx\"\n",
    "#filen = \"../tests/test_fishtails/ISAMI_fishtail_tests.xlsx\"\n",
    "filen = \"../tests/test_fishtails/FS_test_1.xlsx\"\n",
    "\n",
    "\n",
    "ft = fishtail(filen)"
   ]
  },
  {
   "cell_type": "code",
   "execution_count": 3,
   "metadata": {},
   "outputs": [
    {
     "data": {
      "text/plain": [
       "['FastenerSystem Table']"
      ]
     },
     "execution_count": 3,
     "metadata": {},
     "output_type": "execute_result"
    }
   ],
   "source": [
    "ft.fishtail_sheet_names"
   ]
  },
  {
   "cell_type": "code",
   "execution_count": 4,
   "metadata": {},
   "outputs": [
    {
     "data": {
      "text/html": [
       "<div>\n",
       "<style scoped>\n",
       "    .dataframe tbody tr th:only-of-type {\n",
       "        vertical-align: middle;\n",
       "    }\n",
       "\n",
       "    .dataframe tbody tr th {\n",
       "        vertical-align: top;\n",
       "    }\n",
       "\n",
       "    .dataframe thead th {\n",
       "        text-align: right;\n",
       "    }\n",
       "</style>\n",
       "<table border=\"1\" class=\"dataframe\">\n",
       "  <thead>\n",
       "    <tr style=\"text-align: right;\">\n",
       "      <th></th>\n",
       "      <th>AirbusEO_TFastenerSystem</th>\n",
       "      <th>pin</th>\n",
       "      <th>nutCollar</th>\n",
       "      <th>diameter</th>\n",
       "    </tr>\n",
       "  </thead>\n",
       "  <tbody>\n",
       "    <tr>\n",
       "      <th>0</th>\n",
       "      <td>System_1</td>\n",
       "      <td>pin_1</td>\n",
       "      <td>NaN</td>\n",
       "      <td>3.96</td>\n",
       "    </tr>\n",
       "    <tr>\n",
       "      <th>1</th>\n",
       "      <td>System_2</td>\n",
       "      <td>pin_2</td>\n",
       "      <td>NaN</td>\n",
       "      <td>4.78</td>\n",
       "    </tr>\n",
       "    <tr>\n",
       "      <th>2</th>\n",
       "      <td>System_3</td>\n",
       "      <td>pin_3</td>\n",
       "      <td>nut_1</td>\n",
       "      <td>4.17</td>\n",
       "    </tr>\n",
       "    <tr>\n",
       "      <th>3</th>\n",
       "      <td>System_4</td>\n",
       "      <td>pin_4</td>\n",
       "      <td>nut_2</td>\n",
       "      <td>4.78</td>\n",
       "    </tr>\n",
       "    <tr>\n",
       "      <th>4</th>\n",
       "      <td>System_5</td>\n",
       "      <td>pin_5</td>\n",
       "      <td>nut_3</td>\n",
       "      <td>6.35</td>\n",
       "    </tr>\n",
       "    <tr>\n",
       "      <th>5</th>\n",
       "      <td>System_6</td>\n",
       "      <td>NaN</td>\n",
       "      <td>NaN</td>\n",
       "      <td>3.96</td>\n",
       "    </tr>\n",
       "    <tr>\n",
       "      <th>6</th>\n",
       "      <td>System_7</td>\n",
       "      <td>NaN</td>\n",
       "      <td>NaN</td>\n",
       "      <td>4.78</td>\n",
       "    </tr>\n",
       "    <tr>\n",
       "      <th>7</th>\n",
       "      <td>System_8</td>\n",
       "      <td>pin_6</td>\n",
       "      <td>NaN</td>\n",
       "      <td>3.96</td>\n",
       "    </tr>\n",
       "    <tr>\n",
       "      <th>8</th>\n",
       "      <td>System_9</td>\n",
       "      <td>pin_7</td>\n",
       "      <td>NaN</td>\n",
       "      <td>4.78</td>\n",
       "    </tr>\n",
       "    <tr>\n",
       "      <th>9</th>\n",
       "      <td>System_10</td>\n",
       "      <td>pin_8</td>\n",
       "      <td>nut_4</td>\n",
       "      <td>4.17</td>\n",
       "    </tr>\n",
       "    <tr>\n",
       "      <th>10</th>\n",
       "      <td>System_11</td>\n",
       "      <td>pin_9</td>\n",
       "      <td>nut_5</td>\n",
       "      <td>4.78</td>\n",
       "    </tr>\n",
       "    <tr>\n",
       "      <th>11</th>\n",
       "      <td>System_12</td>\n",
       "      <td>pin_10</td>\n",
       "      <td>NaN</td>\n",
       "      <td>2.40</td>\n",
       "    </tr>\n",
       "    <tr>\n",
       "      <th>12</th>\n",
       "      <td>System_13</td>\n",
       "      <td>pin_11</td>\n",
       "      <td>nut_6</td>\n",
       "      <td>4.17</td>\n",
       "    </tr>\n",
       "    <tr>\n",
       "      <th>13</th>\n",
       "      <td>System_14</td>\n",
       "      <td>pin_12</td>\n",
       "      <td>NaN</td>\n",
       "      <td>4.78</td>\n",
       "    </tr>\n",
       "    <tr>\n",
       "      <th>14</th>\n",
       "      <td>System_15</td>\n",
       "      <td>pin_13</td>\n",
       "      <td>NaN</td>\n",
       "      <td>5.56</td>\n",
       "    </tr>\n",
       "    <tr>\n",
       "      <th>15</th>\n",
       "      <td>System_16</td>\n",
       "      <td>pin_14</td>\n",
       "      <td>NaN</td>\n",
       "      <td>3.96</td>\n",
       "    </tr>\n",
       "    <tr>\n",
       "      <th>16</th>\n",
       "      <td>System_17</td>\n",
       "      <td>pin_15</td>\n",
       "      <td>NaN</td>\n",
       "      <td>4.78</td>\n",
       "    </tr>\n",
       "    <tr>\n",
       "      <th>17</th>\n",
       "      <td>System_18</td>\n",
       "      <td>pin_16</td>\n",
       "      <td>NaN</td>\n",
       "      <td>4.17</td>\n",
       "    </tr>\n",
       "    <tr>\n",
       "      <th>18</th>\n",
       "      <td>System_19</td>\n",
       "      <td>pin_17</td>\n",
       "      <td>NaN</td>\n",
       "      <td>4.78</td>\n",
       "    </tr>\n",
       "    <tr>\n",
       "      <th>19</th>\n",
       "      <td>System_20</td>\n",
       "      <td>pin_18</td>\n",
       "      <td>nut</td>\n",
       "      <td>4.17</td>\n",
       "    </tr>\n",
       "    <tr>\n",
       "      <th>20</th>\n",
       "      <td>System_21</td>\n",
       "      <td>pin_19</td>\n",
       "      <td>NaN</td>\n",
       "      <td>4.78</td>\n",
       "    </tr>\n",
       "    <tr>\n",
       "      <th>21</th>\n",
       "      <td>System_22</td>\n",
       "      <td>pin_20</td>\n",
       "      <td>nut_2</td>\n",
       "      <td>4.78</td>\n",
       "    </tr>\n",
       "    <tr>\n",
       "      <th>22</th>\n",
       "      <td>System_23</td>\n",
       "      <td>pin_21</td>\n",
       "      <td>nut_1</td>\n",
       "      <td>4.78</td>\n",
       "    </tr>\n",
       "  </tbody>\n",
       "</table>\n",
       "</div>"
      ],
      "text/plain": [
       "   AirbusEO_TFastenerSystem     pin nutCollar  diameter\n",
       "0                  System_1   pin_1       NaN      3.96\n",
       "1                  System_2   pin_2       NaN      4.78\n",
       "2                  System_3   pin_3     nut_1      4.17\n",
       "3                  System_4   pin_4     nut_2      4.78\n",
       "4                  System_5   pin_5     nut_3      6.35\n",
       "5                  System_6     NaN       NaN      3.96\n",
       "6                  System_7     NaN       NaN      4.78\n",
       "7                  System_8   pin_6       NaN      3.96\n",
       "8                  System_9   pin_7       NaN      4.78\n",
       "9                 System_10   pin_8     nut_4      4.17\n",
       "10                System_11   pin_9     nut_5      4.78\n",
       "11                System_12  pin_10       NaN      2.40\n",
       "12                System_13  pin_11     nut_6      4.17\n",
       "13                System_14  pin_12       NaN      4.78\n",
       "14                System_15  pin_13       NaN      5.56\n",
       "15                System_16  pin_14       NaN      3.96\n",
       "16                System_17  pin_15       NaN      4.78\n",
       "17                System_18  pin_16       NaN      4.17\n",
       "18                System_19  pin_17       NaN      4.78\n",
       "19                System_20  pin_18       nut      4.17\n",
       "20                System_21  pin_19       NaN      4.78\n",
       "21                System_22  pin_20     nut_2      4.78\n",
       "22                System_23  pin_21     nut_1      4.78"
      ]
     },
     "execution_count": 4,
     "metadata": {},
     "output_type": "execute_result"
    }
   ],
   "source": [
    "#ft.fishtail_sheets['fishtail_1'].shape\n",
    "ft.fishtail_sheets['FastenerSystem Table']"
   ]
  },
  {
   "cell_type": "code",
   "execution_count": 5,
   "metadata": {},
   "outputs": [
    {
     "data": {
      "text/plain": [
       "'nut_1'"
      ]
     },
     "execution_count": 5,
     "metadata": {},
     "output_type": "execute_result"
    }
   ],
   "source": [
    "ft.fastener_system_table.iloc[2,2]"
   ]
  },
  {
   "cell_type": "code",
   "execution_count": 8,
   "metadata": {},
   "outputs": [
    {
     "data": {
      "text/plain": [
       "{'System_1': fastener system(System_1, pin_1, nan, 3.96),\n",
       " 'System_2': fastener system(System_2, pin_2, nan, 4.78),\n",
       " 'System_3': fastener system(System_3, pin_3, nut_1, 4.17),\n",
       " 'System_4': fastener system(System_4, pin_4, nut_2, 4.78),\n",
       " 'System_5': fastener system(System_5, pin_5, nut_3, 6.35),\n",
       " 'System_6': fastener system(System_6, nan, nan, 3.96),\n",
       " 'System_7': fastener system(System_7, nan, nan, 4.78),\n",
       " 'System_8': fastener system(System_8, pin_6, nan, 3.96),\n",
       " 'System_9': fastener system(System_9, pin_7, nan, 4.78),\n",
       " 'System_10': fastener system(System_10, pin_8, nut_4, 4.17),\n",
       " 'System_11': fastener system(System_11, pin_9, nut_5, 4.78),\n",
       " 'System_12': fastener system(System_12, pin_10, nan, 2.4),\n",
       " 'System_13': fastener system(System_13, pin_11, nut_6, 4.17),\n",
       " 'System_14': fastener system(System_14, pin_12, nan, 4.78),\n",
       " 'System_15': fastener system(System_15, pin_13, nan, 5.56),\n",
       " 'System_16': fastener system(System_16, pin_14, nan, 3.96),\n",
       " 'System_17': fastener system(System_17, pin_15, nan, 4.78),\n",
       " 'System_18': fastener system(System_18, pin_16, nan, 4.17),\n",
       " 'System_19': fastener system(System_19, pin_17, nan, 4.78),\n",
       " 'System_20': fastener system(System_20, pin_18, nut, 4.17),\n",
       " 'System_21': fastener system(System_21, pin_19, nan, 4.78),\n",
       " 'System_22': fastener system(System_22, pin_20, nut_2, 4.78),\n",
       " 'System_23': fastener system(System_23, pin_21, nut_1, 4.78)}"
      ]
     },
     "execution_count": 8,
     "metadata": {},
     "output_type": "execute_result"
    }
   ],
   "source": [
    "ft.fastener_system_dict"
   ]
  },
  {
   "cell_type": "code",
   "execution_count": 9,
   "metadata": {},
   "outputs": [
    {
     "data": {
      "text/plain": [
       "fastener system(System_1, pin_1, nan, 3.96)"
      ]
     },
     "execution_count": 9,
     "metadata": {},
     "output_type": "execute_result"
    }
   ],
   "source": [
    "fastener_system('System_1', 'pin_1', math.nan ,3.96)"
   ]
  },
  {
   "cell_type": "code",
   "execution_count": 13,
   "metadata": {},
   "outputs": [
    {
     "data": {
      "text/plain": [
       "fastener system(System_1, pin_1, nan, 3.96)"
      ]
     },
     "execution_count": 13,
     "metadata": {},
     "output_type": "execute_result"
    }
   ],
   "source": [
    "ft.get_fastener_system('System_1') #['System_1']"
   ]
  },
  {
   "cell_type": "code",
   "execution_count": 14,
   "metadata": {},
   "outputs": [
    {
     "data": {
      "text/plain": [
       "['System_1',\n",
       " 'System_2',\n",
       " 'System_3',\n",
       " 'System_4',\n",
       " 'System_5',\n",
       " 'System_6',\n",
       " 'System_7',\n",
       " 'System_8',\n",
       " 'System_9',\n",
       " 'System_10',\n",
       " 'System_11',\n",
       " 'System_12',\n",
       " 'System_13',\n",
       " 'System_14',\n",
       " 'System_15',\n",
       " 'System_16',\n",
       " 'System_17',\n",
       " 'System_18',\n",
       " 'System_19',\n",
       " 'System_20',\n",
       " 'System_21',\n",
       " 'System_22',\n",
       " 'System_23']"
      ]
     },
     "execution_count": 14,
     "metadata": {},
     "output_type": "execute_result"
    }
   ],
   "source": [
    "ft.get_fastener_system_list()"
   ]
  },
  {
   "cell_type": "code",
   "execution_count": 22,
   "metadata": {},
   "outputs": [],
   "source": [
    "df=[]\n",
    "for name, fs in ft.fastener_system_dict.items():\n",
    "    df.append({\"AirbusEO_TFastenerSystem\" : name, \"pin\" : fs.pin, \"nutCollar\" : fs.nutcollar, \"diameter\" : fs.diameter})\n",
    "\n",
    "    \n",
    "pd.DataFrame(df)"
   ]
  },
  {
   "cell_type": "code",
   "execution_count": null,
   "metadata": {},
   "outputs": [],
   "source": []
  },
  {
   "cell_type": "code",
   "execution_count": null,
   "metadata": {},
   "outputs": [],
   "source": []
  },
  {
   "cell_type": "code",
   "execution_count": null,
   "metadata": {},
   "outputs": [],
   "source": []
  }
 ],
 "metadata": {
  "interpreter": {
   "hash": "6db3eaa6955d55cc63e3800f2fa75c661f35370a09e058cbf6fd7b14717743c3"
  },
  "kernelspec": {
   "display_name": "Python 3.9.7 ('pagtools')",
   "language": "python",
   "name": "python3"
  },
  "language_info": {
   "codemirror_mode": {
    "name": "ipython",
    "version": 3
   },
   "file_extension": ".py",
   "mimetype": "text/x-python",
   "name": "python",
   "nbconvert_exporter": "python",
   "pygments_lexer": "ipython3",
   "version": "3.9.7"
  },
  "orig_nbformat": 4
 },
 "nbformat": 4,
 "nbformat_minor": 2
}
